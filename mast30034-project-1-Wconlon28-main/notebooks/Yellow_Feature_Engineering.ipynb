{
 "cells": [
  {
   "cell_type": "code",
   "execution_count": 1,
   "metadata": {},
   "outputs": [
    {
     "name": "stderr",
     "output_type": "stream",
     "text": [
      "your 131072x1 screen size is bogus. expect trouble\n",
      "23/08/19 20:37:04 WARN Utils: Your hostname, MIchaels-HP resolves to a loopback address: 127.0.1.1; using 172.20.216.58 instead (on interface eth0)\n",
      "23/08/19 20:37:04 WARN Utils: Set SPARK_LOCAL_IP if you need to bind to another address\n",
      "Setting default log level to \"WARN\".\n",
      "To adjust logging level use sc.setLogLevel(newLevel). For SparkR, use setLogLevel(newLevel).\n",
      "23/08/19 20:37:07 WARN NativeCodeLoader: Unable to load native-hadoop library for your platform... using builtin-java classes where applicable\n",
      "23/08/19 20:37:09 WARN Utils: Service 'SparkUI' could not bind on port 4040. Attempting port 4041.\n",
      "23/08/19 20:37:09 WARN Utils: Service 'SparkUI' could not bind on port 4041. Attempting port 4042.\n",
      "23/08/19 20:37:09 WARN Utils: Service 'SparkUI' could not bind on port 4042. Attempting port 4043.\n"
     ]
    }
   ],
   "source": [
    "from pyspark.sql import SparkSession\n",
    "\n",
    "# Create a spark session (which will run spark jobs)\n",
    "spark = (\n",
    "    SparkSession.builder.appName(\"Yellow Feature Engineering\")\n",
    "    .config(\"spark.sql.repl.eagerEval.enabled\", True) \n",
    "    .config(\"spark.sql.parquet.cacheMetadata\", \"true\")\n",
    "    .config(\"spark.sql.session.timeZone\", \"Etc/UTC\")\n",
    "    .getOrCreate()\n",
    ")"
   ]
  },
  {
   "cell_type": "code",
   "execution_count": 2,
   "metadata": {},
   "outputs": [],
   "source": [
    "from pyspark.sql import functions as F"
   ]
  },
  {
   "cell_type": "code",
   "execution_count": 3,
   "metadata": {},
   "outputs": [
    {
     "name": "stderr",
     "output_type": "stream",
     "text": [
      "                                                                                \r"
     ]
    }
   ],
   "source": [
    "yellow_sdf = spark.read.parquet('../data/landing/yellow_tlc_clean')"
   ]
  },
  {
   "cell_type": "markdown",
   "metadata": {},
   "source": [
    "Make the features we want to be used for analysis"
   ]
  },
  {
   "cell_type": "code",
   "execution_count": 4,
   "metadata": {},
   "outputs": [],
   "source": [
    "#Add a cloumn that is just the trip date\n",
    "\n",
    "yellow_sdf = yellow_sdf.withColumn('trip_date', F.to_date('tpep_pickup_datetime'))"
   ]
  },
  {
   "cell_type": "code",
   "execution_count": 5,
   "metadata": {},
   "outputs": [],
   "source": [
    "#Find what day of week it is, this range is [1,7] (1 = Sunday, ..., 7 = Saturday) and if it is the weekend or not\n",
    "\n",
    "yellow_sdf = yellow_sdf.withColumn('day_of_week', F.dayofweek('tpep_pickup_datetime'))\\\n",
    "                       .withColumn('is_weekend', F.dayofweek('tpep_pickup_datetime').isin([1,7]).cast('int'))\n"
   ]
  },
  {
   "cell_type": "code",
   "execution_count": 6,
   "metadata": {},
   "outputs": [],
   "source": [
    "#Calculate the time each ride took\n",
    "\n",
    "yellow_sdf = yellow_sdf.withColumn('FROM', F.to_timestamp('tpep_pickup_datetime'))\\\n",
    "                    .withColumn(\"UNTILL\", F.to_timestamp('tpep_dropoff_datetime'))\\\n",
    "                    .withColumn('trip_time_min', F.round((F.col('UNTILL').cast(\"long\") - F.col(\"FROM\").cast(\"long\"))/60, 3))\\\n",
    "                    .drop(\"FROM\",\"UNTILL\")"
   ]
  },
  {
   "cell_type": "code",
   "execution_count": 7,
   "metadata": {},
   "outputs": [],
   "source": [
    "#Calculate the fair/minute for each ride \n",
    "\n",
    "yellow_sdf = yellow_sdf.withColumn('fare/minute', F.round(F.col(\"fare_amount\")/F.col(\"trip_time_min\"), 4))"
   ]
  },
  {
   "cell_type": "code",
   "execution_count": 8,
   "metadata": {},
   "outputs": [],
   "source": [
    "#Check if the trip happend between 12 am and 6 am, 6 am and 10 am or 5pm and 8pm \n",
    "yellow_sdf = yellow_sdf.withColumn('timestamp', F.to_timestamp('tpep_pickup_datetime')) \\\n",
    "                       .withColumn('hour', F.hour('timestamp'))\\\n",
    "                       .withColumn('morning_0_to_6', F.col('hour').isin([x for x in range(0,6)]).cast('int'))\\\n",
    "                       .withColumn('morning_6_to_10', F.col('hour').isin([x for x in range(6,10)]).cast('int'))\\\n",
    "                       .withColumn('evening_17_to_20', F.col('hour').isin([x for x in range(17,20)]).cast('int'))\\\n",
    "                       .drop('timestamp')"
   ]
  },
  {
   "cell_type": "markdown",
   "metadata": {},
   "source": [
    "Save the data to be used for analysis"
   ]
  },
  {
   "cell_type": "code",
   "execution_count": 9,
   "metadata": {},
   "outputs": [
    {
     "name": "stderr",
     "output_type": "stream",
     "text": [
      "23/08/19 20:40:14 WARN MemoryManager: Total allocation exceeds 95.00% (906,992,014 bytes) of heap memory\n",
      "Scaling row group sizes to 96.54% for 7 writers\n",
      "23/08/19 20:40:14 WARN MemoryManager: Total allocation exceeds 95.00% (906,992,014 bytes) of heap memory\n",
      "Scaling row group sizes to 84.47% for 8 writers\n",
      "23/08/19 20:40:47 WARN MemoryManager: Total allocation exceeds 95.00% (906,992,014 bytes) of heap memory\n",
      "Scaling row group sizes to 96.54% for 7 writers\n",
      "                                                                                \r"
     ]
    }
   ],
   "source": [
    "yellow_sdf.write.mode('overwrite').parquet('../data/curated/yellow_tlc_final')"
   ]
  }
 ],
 "metadata": {
  "kernelspec": {
   "display_name": "Python 3",
   "language": "python",
   "name": "python3"
  },
  "language_info": {
   "codemirror_mode": {
    "name": "ipython",
    "version": 3
   },
   "file_extension": ".py",
   "mimetype": "text/x-python",
   "name": "python",
   "nbconvert_exporter": "python",
   "pygments_lexer": "ipython3",
   "version": "3.10.12"
  },
  "orig_nbformat": 4
 },
 "nbformat": 4,
 "nbformat_minor": 2
}
