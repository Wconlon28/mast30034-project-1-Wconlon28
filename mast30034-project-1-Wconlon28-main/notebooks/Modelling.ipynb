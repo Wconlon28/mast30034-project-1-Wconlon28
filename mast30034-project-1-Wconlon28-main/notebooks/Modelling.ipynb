{
 "cells": [
  {
   "cell_type": "code",
   "execution_count": 41,
   "metadata": {},
   "outputs": [],
   "source": [
    "from pyspark.sql import SparkSession\n",
    "\n",
    "# Create a spark session (which will run spark jobs)\n",
    "spark = (\n",
    "    SparkSession.builder.appName(\"Modelling\")\n",
    "    .config(\"spark.sql.repl.eagerEval.enabled\", True) \n",
    "    .config(\"spark.sql.parquet.cacheMetadata\", \"true\")\n",
    "    .config(\"spark.sql.session.timeZone\", \"Etc/UTC\")\n",
    "    .getOrCreate()\n",
    ")"
   ]
  },
  {
   "cell_type": "code",
   "execution_count": 42,
   "metadata": {},
   "outputs": [],
   "source": [
    "from pyspark.ml.feature import VectorAssembler\n",
    "from pyspark.sql import functions as F\n",
    "from pyspark.ml.evaluation import RegressionEvaluator\n",
    "from pyspark.ml.regression import RandomForestRegressor\n",
    "\n",
    "import pandas as pd\n",
    "import matplotlib.pyplot as plt\n",
    "\n",
    "import sklearn\n",
    "from sklearn.model_selection import train_test_split\n",
    "from sklearn.linear_model import LinearRegression\n",
    "\n",
    "import numpy as np\n",
    "from itertools import combinations\n",
    "\n"
   ]
  },
  {
   "cell_type": "code",
   "execution_count": 43,
   "metadata": {},
   "outputs": [],
   "source": [
    "yellow_sdf = spark.read.parquet('../data/curated/yellow_tlc_final/')"
   ]
  },
  {
   "cell_type": "markdown",
   "metadata": {},
   "source": [
    "Find the besat features for a linear model using sk leanr'"
   ]
  },
  {
   "cell_type": "code",
   "execution_count": 44,
   "metadata": {},
   "outputs": [
    {
     "name": "stderr",
     "output_type": "stream",
     "text": [
      "/home/wconlon28/.local/lib/python3.10/site-packages/pyspark/sql/pandas/conversion.py:251: FutureWarning: Passing unit-less datetime64 dtype to .astype is deprecated and will raise in a future version. Pass 'datetime64[ns]' instead\n",
      "  series = series.astype(t, copy=False)\n",
      "/home/wconlon28/.local/lib/python3.10/site-packages/pyspark/sql/pandas/conversion.py:251: FutureWarning: Passing unit-less datetime64 dtype to .astype is deprecated and will raise in a future version. Pass 'datetime64[ns]' instead\n",
      "  series = series.astype(t, copy=False)\n"
     ]
    }
   ],
   "source": [
    "'''sample the data into a andas dataframe to se for stepwise featuire selection as we will use \n",
    "sklearn linear regression for it as spark ML will take too much compuation power to run'''\n",
    "\n",
    "yellow_df = yellow_sdf.sample(0.005, seed = 8).toPandas()"
   ]
  },
  {
   "cell_type": "code",
   "execution_count": 46,
   "metadata": {},
   "outputs": [],
   "source": [
    "#crerate a features data frame with the features we want to trial in stepwise selection\n",
    "features_df = yellow_df[[\"trip_distance\", 'trip_time_min', \"day_of_week\", \"passenger_count\", \"airport_fee\", \\\n",
    "                                        'congestion_surcharge', 'tolls_amount', 'payment_type',\\\n",
    "                                          'is_weekend', 'morning_0_to_6', 'morning_6_to_10', 'evening_17_to_20']].copy()\n",
    "\n",
    "#we will put the predicted variable in its own responce dataframe\n",
    "responce_df  = yellow_df['fare_amount']"
   ]
  },
  {
   "cell_type": "code",
   "execution_count": 47,
   "metadata": {},
   "outputs": [],
   "source": [
    "#split the data into a train sset and a test set\n",
    "features_train, features_test, responce_train, responce_test = train_test_split(features_df, responce_df, train_size = 0.8)"
   ]
  },
  {
   "cell_type": "code",
   "execution_count": 8,
   "metadata": {},
   "outputs": [],
   "source": [
    "def stepwise_BIC (X_train, y_train, X_test, y_test):\n",
    "    \"\"\"This function calculates the BIC for every possible combination of features' model and \n",
    "    then returns features that achieved the lowest BIC of all combinations as well as that BIC value\"\"\"\n",
    "    \n",
    "    n, f = X_train.shape\n",
    "\n",
    "    best_bic = float('inf')\n",
    "    best_features = [] \n",
    "\n",
    "    \n",
    "    for num_features in range(1, f+1):\n",
    "        for features in combinations(X_train.columns, num_features):\n",
    "            current_features = X_train[list(features)]\n",
    "\n",
    "            model = LinearRegression()\n",
    "            model.fit(current_features, y_train)\n",
    "\n",
    "            y_pred = model.predict(X_test[list(current_features)])\n",
    "            residuals = y_test-y_pred\n",
    "\n",
    "            rss = np.sum(residuals**2)\n",
    "            bic = n*np.log(rss/n)+num_features*np.log(n)\n",
    "\n",
    "            if bic<best_bic:\n",
    "                best_bic = bic\n",
    "                best_features = list(features)\n",
    "    \n",
    "    return best_bic, best_features"
   ]
  },
  {
   "cell_type": "code",
   "execution_count": 48,
   "metadata": {},
   "outputs": [
    {
     "data": {
      "text/plain": [
       "['trip_distance',\n",
       " 'trip_time_min',\n",
       " 'day_of_week',\n",
       " 'airport_fee',\n",
       " 'tolls_amount',\n",
       " 'is_weekend',\n",
       " 'morning_0_to_6',\n",
       " 'morning_6_to_10']"
      ]
     },
     "execution_count": 48,
     "metadata": {},
     "output_type": "execute_result"
    }
   ],
   "source": [
    "#Run stepwise selection on our features to find the best combination\n",
    "model_bic, model_features = stepwise_BIC(features_train, responce_train, features_test, responce_test)\n",
    "\n",
    "#Our selcted features we will use fr our model are:\n",
    "model_features"
   ]
  },
  {
   "cell_type": "markdown",
   "metadata": {},
   "source": [
    "Making our Test and Train feature vectors for our Regression Models"
   ]
  },
  {
   "cell_type": "code",
   "execution_count": 49,
   "metadata": {},
   "outputs": [],
   "source": [
    "features = 'features'\n",
    "\n",
    "assembler = VectorAssembler(\n",
    "    # which column to combine\n",
    "    inputCols=model_features, \n",
    "    # How should the combined columns be named\n",
    "    outputCol=features\n",
    ")\n",
    "\n",
    "model_sdf = assembler.transform(yellow_sdf)\n"
   ]
  },
  {
   "cell_type": "code",
   "execution_count": 50,
   "metadata": {},
   "outputs": [],
   "source": [
    "#Split our data into train and test dataframes\n",
    "splits_sdf = model_sdf.randomSplit([0.8, 0.2], seed = 8)\n",
    "\n",
    "train_sdf= splits_sdf[0]\n",
    "test_sdf=splits_sdf[1]\n"
   ]
  },
  {
   "cell_type": "markdown",
   "metadata": {},
   "source": [
    "Linear Regression"
   ]
  },
  {
   "cell_type": "code",
   "execution_count": 51,
   "metadata": {},
   "outputs": [
    {
     "name": "stderr",
     "output_type": "stream",
     "text": [
      "23/08/19 21:39:51 WARN Instrumentation: [fca45b33] regParam is zero, which might cause numerical instability and overfitting.\n",
      "                                                                                \r"
     ]
    }
   ],
   "source": [
    "#Since we used Sklearn LinearRegression above we most ensure that we now are using Pyspark.ML Linear Regression\n",
    "from pyspark.ml.regression import LinearRegression\n",
    "\n",
    "#fit our training data\n",
    "lin_reg = LinearRegression(featuresCol = 'features', labelCol='fare_amount')\n",
    "linear_model = lin_reg.fit(train_sdf)"
   ]
  },
  {
   "cell_type": "code",
   "execution_count": 52,
   "metadata": {},
   "outputs": [
    {
     "data": {
      "text/html": [
       "<div>\n",
       "<style scoped>\n",
       "    .dataframe tbody tr th:only-of-type {\n",
       "        vertical-align: middle;\n",
       "    }\n",
       "\n",
       "    .dataframe tbody tr th {\n",
       "        vertical-align: top;\n",
       "    }\n",
       "\n",
       "    .dataframe thead th {\n",
       "        text-align: right;\n",
       "    }\n",
       "</style>\n",
       "<table border=\"1\" class=\"dataframe\">\n",
       "  <thead>\n",
       "    <tr style=\"text-align: right;\">\n",
       "      <th></th>\n",
       "      <th>coefficient</th>\n",
       "    </tr>\n",
       "  </thead>\n",
       "  <tbody>\n",
       "    <tr>\n",
       "      <th>intercept</th>\n",
       "      <td>4.747672</td>\n",
       "    </tr>\n",
       "    <tr>\n",
       "      <th>trip_distance</th>\n",
       "      <td>2.819181</td>\n",
       "    </tr>\n",
       "    <tr>\n",
       "      <th>trip_time_min</th>\n",
       "      <td>0.006869</td>\n",
       "    </tr>\n",
       "    <tr>\n",
       "      <th>day_of_week</th>\n",
       "      <td>0.095114</td>\n",
       "    </tr>\n",
       "    <tr>\n",
       "      <th>airport_fee</th>\n",
       "      <td>-1.491119</td>\n",
       "    </tr>\n",
       "    <tr>\n",
       "      <th>tolls_amount</th>\n",
       "      <td>-0.111559</td>\n",
       "    </tr>\n",
       "    <tr>\n",
       "      <th>is_weekend</th>\n",
       "      <td>-0.534758</td>\n",
       "    </tr>\n",
       "    <tr>\n",
       "      <th>morning_0_to_6</th>\n",
       "      <td>-1.430232</td>\n",
       "    </tr>\n",
       "    <tr>\n",
       "      <th>morning_6_to_10</th>\n",
       "      <td>-0.636239</td>\n",
       "    </tr>\n",
       "  </tbody>\n",
       "</table>\n",
       "</div>"
      ],
      "text/plain": [
       "                 coefficient\n",
       "intercept           4.747672\n",
       "trip_distance       2.819181\n",
       "trip_time_min       0.006869\n",
       "day_of_week         0.095114\n",
       "airport_fee        -1.491119\n",
       "tolls_amount       -0.111559\n",
       "is_weekend         -0.534758\n",
       "morning_0_to_6     -1.430232\n",
       "morning_6_to_10    -0.636239"
      ]
     },
     "execution_count": 52,
     "metadata": {},
     "output_type": "execute_result"
    }
   ],
   "source": [
    "#Print our used features and their corresponding coefficiciants\n",
    "pd.DataFrame(\n",
    "    data=[linear_model.intercept] + list(linear_model.coefficients),\n",
    "    index=['intercept'] + model_features,\n",
    "    columns=['coefficient']\n",
    ")"
   ]
  },
  {
   "cell_type": "code",
   "execution_count": 53,
   "metadata": {},
   "outputs": [
    {
     "name": "stderr",
     "output_type": "stream",
     "text": [
      "[Stage 27:===================================================>    (11 + 1) / 12]\r"
     ]
    },
    {
     "name": "stdout",
     "output_type": "stream",
     "text": [
      "Root Mean Squared Error (RMSE) on test data =  2.9113103569011014\n",
      "Coefficiant of Determination (R^2) on test data =  0.8944090176485434\n"
     ]
    },
    {
     "name": "stderr",
     "output_type": "stream",
     "text": [
      "                                                                                \r"
     ]
    }
   ],
   "source": [
    "#Evaluate how the model did using R^2 and RMSE\n",
    "test_result = linear_model.evaluate(test_sdf)\n",
    "\n",
    "print(\"Root Mean Squared Error (RMSE) on test data = \", test_result.rootMeanSquaredError)\n",
    "print(\"Coefficiant of Determination (R^2) on test data = \", test_result.r2)"
   ]
  },
  {
   "cell_type": "markdown",
   "metadata": {},
   "source": [
    "Random Tree Regression"
   ]
  },
  {
   "cell_type": "code",
   "execution_count": 54,
   "metadata": {},
   "outputs": [
    {
     "name": "stderr",
     "output_type": "stream",
     "text": [
      "23/08/19 21:48:48 WARN MemoryStore: Not enough space to cache rdd_132_7 in memory! (computed 29.6 MiB so far)\n",
      "23/08/19 21:48:48 WARN BlockManager: Persisting block rdd_132_7 to disk instead.\n",
      "23/08/19 21:48:48 WARN MemoryStore: Not enough space to cache rdd_132_3 in memory! (computed 29.6 MiB so far)\n",
      "23/08/19 21:48:48 WARN BlockManager: Persisting block rdd_132_3 to disk instead.\n",
      "23/08/19 21:48:48 WARN MemoryStore: Not enough space to cache rdd_132_5 in memory! (computed 19.2 MiB so far)\n",
      "23/08/19 21:48:48 WARN BlockManager: Persisting block rdd_132_5 to disk instead.\n",
      "23/08/19 21:48:48 WARN MemoryStore: Not enough space to cache rdd_132_4 in memory! (computed 44.4 MiB so far)\n",
      "23/08/19 21:48:48 WARN BlockManager: Persisting block rdd_132_4 to disk instead.\n",
      "23/08/19 21:48:49 WARN MemoryStore: Not enough space to cache rdd_132_1 in memory! (computed 44.4 MiB so far)\n",
      "23/08/19 21:48:49 WARN BlockManager: Persisting block rdd_132_1 to disk instead.\n",
      "23/08/19 21:48:49 WARN MemoryStore: Not enough space to cache rdd_132_6 in memory! (computed 44.4 MiB so far)\n",
      "23/08/19 21:48:49 WARN BlockManager: Persisting block rdd_132_6 to disk instead.\n",
      "23/08/19 21:48:50 WARN MemoryStore: Not enough space to cache rdd_132_2 in memory! (computed 66.6 MiB so far)\n",
      "23/08/19 21:48:50 WARN BlockManager: Persisting block rdd_132_2 to disk instead.\n",
      "23/08/19 21:49:41 WARN MemoryStore: Not enough space to cache rdd_132_0 in memory! (computed 236.8 MiB so far)\n",
      "23/08/19 21:49:41 WARN BlockManager: Persisting block rdd_132_0 to disk instead.\n",
      "23/08/19 21:50:11 WARN MemoryStore: Not enough space to cache rdd_132_6 in memory! (computed 44.4 MiB so far)\n",
      "23/08/19 21:50:13 WARN MemoryStore: Not enough space to cache rdd_132_7 in memory! (computed 29.6 MiB so far)\n",
      "23/08/19 21:50:13 WARN MemoryStore: Not enough space to cache rdd_132_5 in memory! (computed 29.6 MiB so far)\n",
      "23/08/19 21:50:16 WARN MemoryStore: Not enough space to cache rdd_132_2 in memory! (computed 29.6 MiB so far)\n",
      "23/08/19 21:50:16 WARN MemoryStore: Not enough space to cache rdd_132_4 in memory! (computed 8.3 MiB so far)\n",
      "23/08/19 21:50:16 WARN MemoryStore: Not enough space to cache rdd_132_1 in memory! (computed 12.5 MiB so far)\n",
      "23/08/19 21:50:25 WARN MemoryStore: Not enough space to cache rdd_132_3 in memory! (computed 236.8 MiB so far)\n",
      "23/08/19 21:50:28 WARN MemoryStore: Failed to reserve initial memory threshold of 1024.0 KiB for computing block rdd_132_11 in memory.\n",
      "23/08/19 21:50:32 WARN MemoryStore: Not enough space to cache rdd_132_0 in memory! (computed 29.6 MiB so far)\n",
      "23/08/19 21:50:40 WARN MemoryStore: Not enough space to cache rdd_132_10 in memory! (computed 5.5 MiB so far)\n",
      "23/08/19 21:50:40 WARN BlockManager: Persisting block rdd_132_10 to disk instead.\n",
      "23/08/19 21:50:41 WARN MemoryStore: Not enough space to cache rdd_132_11 in memory! (computed 384.0 B so far)\n",
      "23/08/19 21:50:41 WARN BlockManager: Persisting block rdd_132_11 to disk instead.\n",
      "23/08/19 21:50:46 WARN MemoryStore: Not enough space to cache rdd_132_8 in memory! (computed 99.9 MiB so far)\n",
      "23/08/19 21:50:46 WARN BlockManager: Persisting block rdd_132_8 to disk instead.\n",
      "23/08/19 21:50:47 WARN MemoryStore: Not enough space to cache rdd_132_9 in memory! (computed 99.9 MiB so far)\n",
      "23/08/19 21:50:47 WARN BlockManager: Persisting block rdd_132_9 to disk instead.\n",
      "23/08/19 21:50:57 WARN MemoryStore: Not enough space to cache rdd_132_10 in memory! (computed 99.9 MiB so far)\n",
      "23/08/19 21:50:58 WARN MemoryStore: Not enough space to cache rdd_132_11 in memory! (computed 66.6 MiB so far)\n",
      "23/08/19 21:50:58 WARN MemoryStore: Not enough space to cache rdd_132_8 in memory! (computed 99.9 MiB so far)\n",
      "23/08/19 21:50:58 WARN MemoryStore: Not enough space to cache rdd_132_9 in memory! (computed 66.6 MiB so far)\n",
      "23/08/19 21:51:06 WARN MemoryStore: Not enough space to cache rdd_132_2 in memory! (computed 44.4 MiB so far)\n",
      "23/08/19 21:51:06 WARN MemoryStore: Not enough space to cache rdd_132_6 in memory! (computed 44.4 MiB so far)\n",
      "23/08/19 21:51:06 WARN MemoryStore: Not enough space to cache rdd_132_5 in memory! (computed 44.4 MiB so far)\n",
      "23/08/19 21:51:06 WARN MemoryStore: Not enough space to cache rdd_132_1 in memory! (computed 44.4 MiB so far)\n",
      "23/08/19 21:51:06 WARN MemoryStore: Not enough space to cache rdd_132_0 in memory! (computed 29.6 MiB so far)\n",
      "23/08/19 21:51:06 WARN MemoryStore: Not enough space to cache rdd_132_7 in memory! (computed 44.4 MiB so far)\n",
      "23/08/19 21:51:07 WARN MemoryStore: Not enough space to cache rdd_132_4 in memory! (computed 44.4 MiB so far)\n",
      "23/08/19 21:51:07 WARN MemoryStore: Not enough space to cache rdd_132_3 in memory! (computed 66.6 MiB so far)\n",
      "23/08/19 21:51:22 WARN MemoryStore: Not enough space to cache rdd_132_11 in memory! (computed 44.4 MiB so far)\n",
      "23/08/19 21:51:23 WARN MemoryStore: Not enough space to cache rdd_132_10 in memory! (computed 66.6 MiB so far)\n",
      "23/08/19 21:51:24 WARN MemoryStore: Not enough space to cache rdd_132_9 in memory! (computed 99.9 MiB so far)\n",
      "23/08/19 21:51:24 WARN MemoryStore: Not enough space to cache rdd_132_8 in memory! (computed 149.9 MiB so far)\n",
      "23/08/19 21:51:34 WARN MemoryStore: Not enough space to cache rdd_132_6 in memory! (computed 29.6 MiB so far)\n",
      "23/08/19 21:51:34 WARN MemoryStore: Not enough space to cache rdd_132_2 in memory! (computed 19.2 MiB so far)\n",
      "23/08/19 21:51:35 WARN MemoryStore: Not enough space to cache rdd_132_4 in memory! (computed 66.6 MiB so far)\n",
      "23/08/19 21:51:35 WARN MemoryStore: Not enough space to cache rdd_132_3 in memory! (computed 44.4 MiB so far)\n",
      "23/08/19 21:51:35 WARN MemoryStore: Not enough space to cache rdd_132_1 in memory! (computed 44.4 MiB so far)\n",
      "23/08/19 21:51:35 WARN MemoryStore: Not enough space to cache rdd_132_5 in memory! (computed 44.4 MiB so far)\n",
      "23/08/19 21:51:36 WARN MemoryStore: Not enough space to cache rdd_132_7 in memory! (computed 44.4 MiB so far)\n",
      "23/08/19 21:51:36 WARN MemoryStore: Not enough space to cache rdd_132_0 in memory! (computed 66.6 MiB so far)\n",
      "23/08/19 21:51:52 WARN MemoryStore: Not enough space to cache rdd_132_11 in memory! (computed 44.4 MiB so far)\n",
      "23/08/19 21:51:52 WARN MemoryStore: Not enough space to cache rdd_132_9 in memory! (computed 99.9 MiB so far)\n",
      "23/08/19 21:51:52 WARN MemoryStore: Not enough space to cache rdd_132_10 in memory! (computed 66.6 MiB so far)\n",
      "23/08/19 21:51:53 WARN MemoryStore: Not enough space to cache rdd_132_8 in memory! (computed 149.9 MiB so far)\n",
      "23/08/19 21:52:06 WARN MemoryStore: Not enough space to cache rdd_132_6 in memory! (computed 29.6 MiB so far)\n",
      "23/08/19 21:52:06 WARN MemoryStore: Not enough space to cache rdd_132_5 in memory! (computed 44.4 MiB so far)\n",
      "23/08/19 21:52:06 WARN MemoryStore: Not enough space to cache rdd_132_4 in memory! (computed 44.4 MiB so far)\n",
      "23/08/19 21:52:06 WARN MemoryStore: Not enough space to cache rdd_132_3 in memory! (computed 44.4 MiB so far)\n",
      "23/08/19 21:52:07 WARN MemoryStore: Not enough space to cache rdd_132_1 in memory! (computed 44.4 MiB so far)\n",
      "23/08/19 21:52:07 WARN MemoryStore: Not enough space to cache rdd_132_0 in memory! (computed 44.4 MiB so far)\n",
      "23/08/19 21:52:07 WARN MemoryStore: Not enough space to cache rdd_132_7 in memory! (computed 44.4 MiB so far)\n",
      "23/08/19 21:52:08 WARN MemoryStore: Not enough space to cache rdd_132_2 in memory! (computed 66.6 MiB so far)\n",
      "23/08/19 21:52:27 WARN MemoryStore: Not enough space to cache rdd_132_10 in memory! (computed 66.6 MiB so far)\n",
      "23/08/19 21:52:27 WARN MemoryStore: Not enough space to cache rdd_132_8 in memory! (computed 66.6 MiB so far)\n",
      "23/08/19 21:52:29 WARN MemoryStore: Not enough space to cache rdd_132_9 in memory! (computed 99.9 MiB so far)\n",
      "23/08/19 21:52:29 WARN MemoryStore: Not enough space to cache rdd_132_11 in memory! (computed 99.9 MiB so far)\n",
      "23/08/19 21:52:48 WARN MemoryStore: Not enough space to cache rdd_132_0 in memory! (computed 44.4 MiB so far)\n",
      "23/08/19 21:52:48 WARN MemoryStore: Not enough space to cache rdd_132_3 in memory! (computed 44.4 MiB so far)\n",
      "23/08/19 21:52:48 WARN MemoryStore: Not enough space to cache rdd_132_4 in memory! (computed 44.4 MiB so far)\n",
      "23/08/19 21:52:48 WARN MemoryStore: Not enough space to cache rdd_132_7 in memory! (computed 44.4 MiB so far)\n",
      "23/08/19 21:52:48 WARN MemoryStore: Not enough space to cache rdd_132_5 in memory! (computed 44.4 MiB so far)\n",
      "23/08/19 21:52:48 WARN MemoryStore: Not enough space to cache rdd_132_1 in memory! (computed 44.4 MiB so far)\n",
      "23/08/19 21:52:48 WARN MemoryStore: Not enough space to cache rdd_132_2 in memory! (computed 44.4 MiB so far)\n",
      "23/08/19 21:52:48 WARN MemoryStore: Not enough space to cache rdd_132_6 in memory! (computed 44.4 MiB so far)\n",
      "23/08/19 21:53:12 WARN MemoryStore: Not enough space to cache rdd_132_10 in memory! (computed 66.6 MiB so far)\n",
      "23/08/19 21:53:12 WARN MemoryStore: Not enough space to cache rdd_132_8 in memory! (computed 149.9 MiB so far)\n",
      "23/08/19 21:53:13 WARN MemoryStore: Not enough space to cache rdd_132_9 in memory! (computed 99.9 MiB so far)\n",
      "23/08/19 21:53:13 WARN MemoryStore: Not enough space to cache rdd_132_11 in memory! (computed 44.4 MiB so far)\n",
      "                                                                                \r"
     ]
    }
   ],
   "source": [
    "#Fit the Random Forest Model to my trainging data\n",
    "rf_reg = RandomForestRegressor(featuresCol = 'features', labelCol='fare_amount')\n",
    "rf_model = rf_reg.fit(train_sdf)"
   ]
  },
  {
   "cell_type": "code",
   "execution_count": 55,
   "metadata": {},
   "outputs": [
    {
     "name": "stderr",
     "output_type": "stream",
     "text": [
      "[Stage 45:===================================================>    (11 + 1) / 12]\r"
     ]
    },
    {
     "name": "stdout",
     "output_type": "stream",
     "text": [
      "Root Mean Squared Error (RMSE) on test data =  2.2451472040220777\n",
      "Coefficiant of Determination (R^2) on test data =  0.937202918330807\n"
     ]
    },
    {
     "name": "stderr",
     "output_type": "stream",
     "text": [
      "                                                                                \r"
     ]
    }
   ],
   "source": [
    "#Predict how the model did with the test data\n",
    "predictions = rf_model.transform(test_sdf)\n",
    "\n",
    "#Evaluate the RFR model based on the predictions and calculate the R^2 and RMSE for the model\n",
    "evaluation = RegressionEvaluator(labelCol='fare_amount', predictionCol=\"prediction\", metricName='rmse')\n",
    "rsme_rf = evaluation.evaluate(predictions)\n",
    "\n",
    "evaluation = RegressionEvaluator(labelCol='fare_amount', predictionCol=\"prediction\", metricName='r2')\n",
    "r2_rf = evaluation.evaluate(predictions)\n",
    "\n",
    "print(\"Root Mean Squared Error (RMSE) on test data = \", rsme_rf)\n",
    "print(\"Coefficiant of Determination (R^2) on test data = \", r2_rf)"
   ]
  },
  {
   "cell_type": "code",
   "execution_count": 57,
   "metadata": {},
   "outputs": [
    {
     "name": "stderr",
     "output_type": "stream",
     "text": [
      "                                                                                \r"
     ]
    },
    {
     "data": {
      "image/png": "[encoded data removed]",
      "text/plain": [
       "<Figure size 640x480 with 1 Axes>"
      ]
     },
     "metadata": {},
     "output_type": "display_data"
    }
   ],
   "source": [
    "#Take a sample of the predictions to use for plotting for visualisation purposes\n",
    "pred_actual = predictions.select(F.col('prediction'), F.col('fare_amount')).sample(0.0005, seed = 8).toPandas()\n",
    "\n",
    "#Take 100 random points between 0 and 55 to plot a diagonal on the graph to see how closely rfr's predictions are to our actual data\n",
    "x = np.random.randint(0, 55, 100)\n",
    "\n",
    "plt.scatter(pred_actual['fare_amount'], pred_actual['prediction'])\n",
    "plt.plot(x, x, c = 'k')\n",
    "plt.legend(['prediction vs actual', 'y = x'], loc = 2, prop = {'size':10})\n",
    "plt.xlabel(\"Actual Fare Amount\")\n",
    "plt.ylabel(\"Predicted Fare Amount\")\n",
    "plt.savefig(\"/home/wconlon28/mast30034-project-1-Wconlon28-4/plots/RFR_Results\")"
   ]
  }
 ],
 "metadata": {
  "kernelspec": {
   "display_name": "Python 3",
   "language": "python",
   "name": "python3"
  },
  "language_info": {
   "codemirror_mode": {
    "name": "ipython",
    "version": 3
   },
   "file_extension": ".py",
   "mimetype": "text/x-python",
   "name": "python",
   "nbconvert_exporter": "python",
   "pygments_lexer": "ipython3",
   "version": "3.10.12"
  },
  "orig_nbformat": 4
 },
 "nbformat": 4,
 "nbformat_minor": 2
}
